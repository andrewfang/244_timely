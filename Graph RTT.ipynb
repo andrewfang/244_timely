{
 "cells": [
  {
   "cell_type": "code",
   "execution_count": 1,
   "metadata": {
    "collapsed": false
   },
   "outputs": [],
   "source": [
    "import sys\n",
    "import matplotlib.pyplot as plt"
   ]
  },
  {
   "cell_type": "code",
   "execution_count": 73,
   "metadata": {
    "collapsed": false
   },
   "outputs": [],
   "source": [
    "algorithmTitle = \"Vegas (addStep=4, beta=0.01)\"\n",
    "alg = \"vegas2\""
   ]
  },
  {
   "cell_type": "code",
   "execution_count": 74,
   "metadata": {
    "collapsed": false
   },
   "outputs": [
    {
     "name": "stdout",
     "output_type": "stream",
     "text": [
      "Average RTT: 2 µs\n",
      "95th percentile RTT: 7 µs\n",
      "Average queue occupancy: 12179\n",
      "95th percentile RTT: 16337\n"
     ]
    }
   ],
   "source": [
    "fileName = alg + \"RTT\"\n",
    "f = open(fileName + \".txt\", \"r\")\n",
    "qOccupancy = []\n",
    "times = []\n",
    "\n",
    "first = 0\n",
    "for line in f:\n",
    "    if len(line.split(\":\")) == 4:\n",
    "        ignore, q, ignore2, time = line.split(\":\")\n",
    "        if (first == 0):\n",
    "            first = int(time)\n",
    "        qOccupancy.append(int(q))\n",
    "        times.append(int(time) - first)\n",
    "    \n",
    "    \n",
    "print \"Average RTT: \"+ str(sum(rtts)/len(rtts)) +\" µs\"\n",
    "\n",
    "top1percent = sorted(rtts)[len(rtts)-int(len(rtts)*0.05):]\n",
    "print \"95th percentile RTT: \"+ str(sum(top1percent)/len(top1percent)) +\" µs\"\n",
    "\n",
    "fig = plt.figure()\n",
    "plt.plot(times, qOccupancy)\n",
    "plt.xlabel('Time (ms)')\n",
    "plt.ylabel('Queue Occupancy')\n",
    "plt.title(algorithmTitle + \" Queue Occupancy over time\")\n",
    "fig.savefig('TIMELY-' + fileName + '.png', dpi=fig.dpi)\n",
    "\n",
    "fileName = alg + \"Q\"\n",
    "f = open(fileName + \".txt\", \"r\")\n",
    "rtts = []\n",
    "times = []\n",
    "\n",
    "first = 0\n",
    "for line in f:\n",
    "    if len(line.split(\":\")) == 4:\n",
    "        ignore, rtt, ignore2, time = line.split(\":\")\n",
    "        if (first == 0):\n",
    "            first = int(time)\n",
    "        rtts.append(int(rtt))\n",
    "        times.append(int(time) - first)\n",
    "\n",
    "print \"Average queue occupancy: \"+ str(sum(qOccupancy)/len(qOccupancy))\n",
    "\n",
    "top1percent = sorted(qOccupancy)[len(qOccupancy)-int(len(qOccupancy)*0.05):]\n",
    "print \"95th percentile RTT: \"+ str(sum(top1percent)/len(top1percent))\n",
    "\n",
    "\n",
    "# Plot the graphs\n",
    "fig = plt.figure()\n",
    "plt.plot(times, rtts)\n",
    "plt.title(algorithmTitle + \" RTT over time\")\n",
    "plt.xlabel('Time (ms)')\n",
    "plt.ylabel('RTT (us)')\n",
    "fig.savefig('TIMELY-' + fileName + '.png', dpi=fig.dpi)\n",
    "\n",
    "plt.close('all')"
   ]
  },
  {
   "cell_type": "code",
   "execution_count": 30,
   "metadata": {
    "collapsed": false
   },
   "outputs": [
    {
     "name": "stdout",
     "output_type": "stream",
     "text": [
      "1008\n"
     ]
    }
   ],
   "source": []
  },
  {
   "cell_type": "code",
   "execution_count": 31,
   "metadata": {
    "collapsed": false
   },
   "outputs": [
    {
     "name": "stdout",
     "output_type": "stream",
     "text": [
      "1097\n"
     ]
    }
   ],
   "source": []
  },
  {
   "cell_type": "code",
   "execution_count": 32,
   "metadata": {
    "collapsed": false
   },
   "outputs": [],
   "source": []
  },
  {
   "cell_type": "code",
   "execution_count": 33,
   "metadata": {
    "collapsed": false
   },
   "outputs": [],
   "source": []
  },
  {
   "cell_type": "code",
   "execution_count": 34,
   "metadata": {
    "collapsed": false
   },
   "outputs": [
    {
     "name": "stdout",
     "output_type": "stream",
     "text": [
      "136983\n"
     ]
    }
   ],
   "source": []
  },
  {
   "cell_type": "code",
   "execution_count": 35,
   "metadata": {
    "collapsed": false
   },
   "outputs": [
    {
     "name": "stdout",
     "output_type": "stream",
     "text": [
      "157829\n"
     ]
    }
   ],
   "source": []
  },
  {
   "cell_type": "code",
   "execution_count": 71,
   "metadata": {
    "collapsed": false
   },
   "outputs": [
    {
     "name": "stdout",
     "output_type": "stream",
     "text": [
      "Average RTT: 2 µs\n",
      "95th percentile RTT: 7 µs\n",
      "Average queue occupancy: 1411\n",
      "95th percentile RTT: 2878\n"
     ]
    }
   ],
   "source": []
  },
  {
   "cell_type": "code",
   "execution_count": 42,
   "metadata": {
    "collapsed": true
   },
   "outputs": [],
   "source": []
  },
  {
   "cell_type": "code",
   "execution_count": null,
   "metadata": {
    "collapsed": true
   },
   "outputs": [],
   "source": []
  }
 ],
 "metadata": {
  "kernelspec": {
   "display_name": "Python 2",
   "language": "python",
   "name": "python2"
  },
  "language_info": {
   "codemirror_mode": {
    "name": "ipython",
    "version": 2
   },
   "file_extension": ".py",
   "mimetype": "text/x-python",
   "name": "python",
   "nbconvert_exporter": "python",
   "pygments_lexer": "ipython2",
   "version": "2.7.11"
  }
 },
 "nbformat": 4,
 "nbformat_minor": 0
}
